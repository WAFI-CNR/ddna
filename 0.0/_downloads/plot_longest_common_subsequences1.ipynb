{
  "cells": [
    {
      "cell_type": "code",
      "execution_count": null,
      "metadata": {
        "collapsed": false
      },
      "outputs": [],
      "source": [
        "%matplotlib inline"
      ]
    },
    {
      "cell_type": "markdown",
      "metadata": {},
      "source": [
        "\n# Longest Common Subsequences\n\n\nAn example plot of :class:`digitaldna.LongestCommonSubsequence`\n\n"
      ]
    },
    {
      "cell_type": "code",
      "execution_count": null,
      "metadata": {
        "collapsed": false
      },
      "outputs": [],
      "source": [
        "from digitaldna import TwitterDDNASequencer\nfrom digitaldna import LongestCommonSubsequence\nfrom digitaldna import Verbosity\nimport numpy as np\n\n# Generate DDNA from Twitter\nmodel = TwitterDDNASequencer(input_file='timelines.json', alphabet='b3_type')\narr = model.fit_transform()\n\n# Simulate bots by repeating 10 times the first timeline\nnrep_arr = [10 if i == 0 else 1 for i in range(len(arr))]\narr = np.repeat(arr, nrep_arr, axis=0)\narr[:, 0] = np.random.randint(0, high=10100, size=len(arr))\n\n# Compute Longest Common Subsequences\nestimator = LongestCommonSubsequence(window=2, verbosity=Verbosity.FILE)\nestimator.fit_predict(arr[:, 1])\n\n# Plot\nestimator.plot_LCS()"
      ]
    }
  ],
  "metadata": {
    "kernelspec": {
      "display_name": "Python 3",
      "language": "python",
      "name": "python3"
    },
    "language_info": {
      "codemirror_mode": {
        "name": "ipython",
        "version": 3
      },
      "file_extension": ".py",
      "mimetype": "text/x-python",
      "name": "python",
      "nbconvert_exporter": "python",
      "pygments_lexer": "ipython3",
      "version": "3.6.5"
    }
  },
  "nbformat": 4,
  "nbformat_minor": 0
}